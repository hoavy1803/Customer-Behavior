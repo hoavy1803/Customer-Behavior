{
 "cells": [
  {
   "cell_type": "code",
   "execution_count": 1,
   "id": "initial_id",
   "metadata": {
    "ExecuteTime": {
     "end_time": "2024-05-15T06:22:48.742381Z",
     "start_time": "2024-05-15T06:22:48.534643Z"
    },
    "collapsed": true
   },
   "outputs": [],
   "source": [
    "import numpy as np\n",
    "import pandas as pd\n",
    "from time import sleep\n",
    "import random\n",
    "from selenium import webdriver\n",
    "from selenium.webdriver.common.by import By\n",
    "from selenium.webdriver.chrome.service import Service\n",
    "from selenium.common.exceptions import NoSuchElementException, ElementNotInteractableException"
   ]
  },
  {
   "cell_type": "code",
   "execution_count": 2,
   "id": "e5a5bf55d8983ef7",
   "metadata": {
    "ExecuteTime": {
     "end_time": "2024-05-15T06:23:21.329849Z",
     "start_time": "2024-05-15T06:23:15.801305Z"
    },
    "collapsed": false
   },
   "outputs": [],
   "source": [
    "service = Service(executable_path='..\\data\\chromedriver-win64\\chromedriver.exe')\n",
    "driver = webdriver.Chrome(service=service)"
   ]
  },
  {
   "cell_type": "code",
   "execution_count": 3,
   "id": "410f5397cac2fe9c",
   "metadata": {
    "ExecuteTime": {
     "end_time": "2024-05-15T06:28:00.273212Z",
     "start_time": "2024-05-15T06:27:26.896480Z"
    },
    "collapsed": false
   },
   "outputs": [],
   "source": [
    "driver.get('https://eshop.acecookvietnam.vn/collections/all')\n",
    "sleep(random.randint(5,10))"
   ]
  },
  {
   "cell_type": "code",
   "execution_count": 4,
   "id": "924392c6291dcca9",
   "metadata": {
    "ExecuteTime": {
     "end_time": "2024-05-15T06:28:55.264653Z",
     "start_time": "2024-05-15T06:28:11.523179Z"
    },
    "collapsed": false
   },
   "outputs": [
    {
     "name": "stdout",
     "output_type": "stream",
     "text": [
      "Crawl Page1\n",
      "Crawl Page2\n",
      "Crawl Page3\n",
      "Crawl Page4\n",
      "Crawl Page5\n",
      "Crawl Page6\n",
      "Crawl Page7\n",
      "Crawl Page8\n",
      "Crawl Page9\n",
      "Crawl Page10\n",
      "Element Not Interactable Exception\n"
     ]
    }
   ],
   "source": [
    "count = 1\n",
    "links, title, price = [], [], []\n",
    "while True:\n",
    "    try:\n",
    "        print(\"Crawl Page\" + str(count))\n",
    "        elems = driver.find_elements(By.CSS_SELECTOR, \".proloop-image [href]\")\n",
    "        links = [elem.get_attribute('href') for elem in elems] + links\n",
    "        title = [elem.get_attribute('title') for elem in elems] + title\n",
    "        elems_price = driver.find_elements(By.CSS_SELECTOR, \".price\") \n",
    "        price = [elem.text for elem in elems_price] + price\n",
    "        next_product = driver.find_element('xpath', '//*[@id=\"collection-body\"]/div/div/div[2]/div[2]/div[2]/a')\n",
    "        next_product.click()\n",
    "        count += 1\n",
    "    except ElementNotInteractableException:\n",
    "        print(\"Element Not Interactable Exception\")\n",
    "        break"
   ]
  },
  {
   "cell_type": "code",
   "execution_count": 6,
   "id": "77483d5d521bafce",
   "metadata": {
    "ExecuteTime": {
     "end_time": "2024-05-15T06:29:16.035961Z",
     "start_time": "2024-05-15T06:29:15.547265Z"
    },
    "collapsed": false
   },
   "outputs": [
    {
     "data": {
      "text/html": [
       "<div>\n",
       "<style scoped>\n",
       "    .dataframe tbody tr th:only-of-type {\n",
       "        vertical-align: middle;\n",
       "    }\n",
       "\n",
       "    .dataframe tbody tr th {\n",
       "        vertical-align: top;\n",
       "    }\n",
       "\n",
       "    .dataframe thead th {\n",
       "        text-align: right;\n",
       "    }\n",
       "</style>\n",
       "<table border=\"1\" class=\"dataframe\">\n",
       "  <thead>\n",
       "    <tr style=\"text-align: right;\">\n",
       "      <th></th>\n",
       "      <th>link</th>\n",
       "      <th>title</th>\n",
       "      <th>price</th>\n",
       "    </tr>\n",
       "  </thead>\n",
       "  <tbody>\n",
       "    <tr>\n",
       "      <th>0</th>\n",
       "      <td>https://eshop.acecookvietnam.vn/products/thung...</td>\n",
       "      <td>Thùng 12 Tô Mì Nhớ Mãi Mãi Hương Vị Lẩu Thái 84g</td>\n",
       "      <td>156,000₫</td>\n",
       "    </tr>\n",
       "    <tr>\n",
       "      <th>1</th>\n",
       "      <td>https://eshop.acecookvietnam.vn/products/thung...</td>\n",
       "      <td>Thùng 24 ly Handy Hảo Hảo Hương Vị Tomyum 67g</td>\n",
       "      <td>228,000₫</td>\n",
       "    </tr>\n",
       "    <tr>\n",
       "      <th>2</th>\n",
       "      <td>https://eshop.acecookvietnam.vn/products/thung...</td>\n",
       "      <td>Thùng 24 ly Handy Hảo Hảo Tôm Chua Cay 67g</td>\n",
       "      <td>228,000₫</td>\n",
       "    </tr>\n",
       "    <tr>\n",
       "      <th>3</th>\n",
       "      <td>https://eshop.acecookvietnam.vn/products/thung...</td>\n",
       "      <td>Thùng 30 gói Hảo Hảo Hương Vị Sa Tế Hành Tím 75g</td>\n",
       "      <td>135,000₫</td>\n",
       "    </tr>\n",
       "    <tr>\n",
       "      <th>4</th>\n",
       "      <td>https://eshop.acecookvietnam.vn/products/thung...</td>\n",
       "      <td>Thùng 30 gói Hảo Hảo Chay Hương Vị Rau Nấm 74g</td>\n",
       "      <td>135,000₫</td>\n",
       "    </tr>\n",
       "    <tr>\n",
       "      <th>...</th>\n",
       "      <td>...</td>\n",
       "      <td>...</td>\n",
       "      <td>...</td>\n",
       "    </tr>\n",
       "    <tr>\n",
       "      <th>365</th>\n",
       "      <td>https://eshop.acecookvietnam.vn/products/block...</td>\n",
       "      <td>Block 6 vắt Miến Phú Hương Yến Tiệc 210g</td>\n",
       "      <td>57,500₫</td>\n",
       "    </tr>\n",
       "    <tr>\n",
       "      <th>366</th>\n",
       "      <td>https://eshop.acecookvietnam.vn/products/block...</td>\n",
       "      <td>Block 4 gói Miến Phú Hương Sườn Heo 55g</td>\n",
       "      <td>288,000₫</td>\n",
       "    </tr>\n",
       "    <tr>\n",
       "      <th>367</th>\n",
       "      <td>https://eshop.acecookvietnam.vn/products/block...</td>\n",
       "      <td>Block 4 gói Mì Siukay Hương Vị Hải Sản 128g</td>\n",
       "      <td>288,000₫</td>\n",
       "    </tr>\n",
       "    <tr>\n",
       "      <th>368</th>\n",
       "      <td>https://eshop.acecookvietnam.vn/products/block...</td>\n",
       "      <td>Block 5 gói Phở Đệ Nhất Hương Vị Bò 65g</td>\n",
       "      <td>135,000₫</td>\n",
       "    </tr>\n",
       "    <tr>\n",
       "      <th>369</th>\n",
       "      <td>https://eshop.acecookvietnam.vn/products/block...</td>\n",
       "      <td>Block 4 vắt Bún Tươi Sấy Khô Hằng Nga 200g</td>\n",
       "      <td>312,000₫</td>\n",
       "    </tr>\n",
       "  </tbody>\n",
       "</table>\n",
       "<p>370 rows × 3 columns</p>\n",
       "</div>"
      ],
      "text/plain": [
       "                                                  link  \\\n",
       "0    https://eshop.acecookvietnam.vn/products/thung...   \n",
       "1    https://eshop.acecookvietnam.vn/products/thung...   \n",
       "2    https://eshop.acecookvietnam.vn/products/thung...   \n",
       "3    https://eshop.acecookvietnam.vn/products/thung...   \n",
       "4    https://eshop.acecookvietnam.vn/products/thung...   \n",
       "..                                                 ...   \n",
       "365  https://eshop.acecookvietnam.vn/products/block...   \n",
       "366  https://eshop.acecookvietnam.vn/products/block...   \n",
       "367  https://eshop.acecookvietnam.vn/products/block...   \n",
       "368  https://eshop.acecookvietnam.vn/products/block...   \n",
       "369  https://eshop.acecookvietnam.vn/products/block...   \n",
       "\n",
       "                                                title     price  \n",
       "0    Thùng 12 Tô Mì Nhớ Mãi Mãi Hương Vị Lẩu Thái 84g  156,000₫  \n",
       "1       Thùng 24 ly Handy Hảo Hảo Hương Vị Tomyum 67g  228,000₫  \n",
       "2          Thùng 24 ly Handy Hảo Hảo Tôm Chua Cay 67g  228,000₫  \n",
       "3    Thùng 30 gói Hảo Hảo Hương Vị Sa Tế Hành Tím 75g  135,000₫  \n",
       "4      Thùng 30 gói Hảo Hảo Chay Hương Vị Rau Nấm 74g  135,000₫  \n",
       "..                                                ...       ...  \n",
       "365          Block 6 vắt Miến Phú Hương Yến Tiệc 210g   57,500₫  \n",
       "366           Block 4 gói Miến Phú Hương Sườn Heo 55g  288,000₫  \n",
       "367       Block 4 gói Mì Siukay Hương Vị Hải Sản 128g  288,000₫  \n",
       "368           Block 5 gói Phở Đệ Nhất Hương Vị Bò 65g  135,000₫  \n",
       "369        Block 4 vắt Bún Tươi Sấy Khô Hằng Nga 200g  312,000₫  \n",
       "\n",
       "[370 rows x 3 columns]"
      ]
     },
     "execution_count": 6,
     "metadata": {},
     "output_type": "execute_result"
    }
   ],
   "source": [
    "df1 = pd.DataFrame(list(zip(links[1::2], title[1::2], price)), columns=['link', 'title', 'price'])\n",
    "df1"
   ]
  },
  {
   "cell_type": "code",
   "execution_count": 5,
   "id": "f52d90bac3fe857a",
   "metadata": {
    "ExecuteTime": {
     "end_time": "2024-05-15T06:29:25.725629Z",
     "start_time": "2024-05-15T06:29:25.719433Z"
    },
    "collapsed": false
   },
   "outputs": [],
   "source": [
    "links = links[1::2]"
   ]
  },
  {
   "cell_type": "code",
   "execution_count": 6,
   "id": "a8c481c08f94052f",
   "metadata": {
    "ExecuteTime": {
     "end_time": "2024-05-15T06:29:49.594489Z",
     "start_time": "2024-05-15T06:29:49.584405Z"
    },
    "collapsed": false
   },
   "outputs": [
    {
     "data": {
      "text/plain": [
       "380"
      ]
     },
     "execution_count": 6,
     "metadata": {},
     "output_type": "execute_result"
    }
   ],
   "source": [
    "len(links)"
   ]
  },
  {
   "cell_type": "code",
   "execution_count": 7,
   "id": "4383e42ef74ab37",
   "metadata": {
    "ExecuteTime": {
     "end_time": "2024-05-15T06:29:56.693888Z",
     "start_time": "2024-05-15T06:29:56.686663Z"
    },
    "collapsed": false
   },
   "outputs": [],
   "source": [
    "product_id = []\n",
    "product_img = []"
   ]
  },
  {
   "cell_type": "code",
   "execution_count": 8,
   "id": "74e8b083a96596f3",
   "metadata": {
    "ExecuteTime": {
     "end_time": "2024-05-15T06:48:43.407656Z",
     "start_time": "2024-05-15T06:30:01.296965Z"
    },
    "collapsed": false
   },
   "outputs": [
    {
     "ename": "NoSuchElementException",
     "evalue": "Message: no such element: Unable to locate element: {\"method\":\"css selector\",\"selector\":\".product-thumb__item img\"}\n  (Session info: chrome=124.0.6367.202); For documentation on this error, please visit: https://www.selenium.dev/documentation/webdriver/troubleshooting/errors#no-such-element-exception\nStacktrace:\n\tGetHandleVerifier [0x00007FF704E21522+60802]\n\t(No symbol) [0x00007FF704D9AC22]\n\t(No symbol) [0x00007FF704C57CE4]\n\t(No symbol) [0x00007FF704CA6D4D]\n\t(No symbol) [0x00007FF704CA6E1C]\n\t(No symbol) [0x00007FF704CECE37]\n\t(No symbol) [0x00007FF704CCABBF]\n\t(No symbol) [0x00007FF704CEA224]\n\t(No symbol) [0x00007FF704CCA923]\n\t(No symbol) [0x00007FF704C98FEC]\n\t(No symbol) [0x00007FF704C99C21]\n\tGetHandleVerifier [0x00007FF7051241BD+3217949]\n\tGetHandleVerifier [0x00007FF705166157+3488183]\n\tGetHandleVerifier [0x00007FF70515F0DF+3459391]\n\tGetHandleVerifier [0x00007FF704EDB8E6+823622]\n\t(No symbol) [0x00007FF704DA5FBF]\n\t(No symbol) [0x00007FF704DA0EE4]\n\t(No symbol) [0x00007FF704DA1072]\n\t(No symbol) [0x00007FF704D918C4]\n\tBaseThreadInitThunk [0x00007FFF62C6257D+29]\n\tRtlUserThreadStart [0x00007FFF630EAA48+40]\n",
     "output_type": "error",
     "traceback": [
      "\u001b[1;31m---------------------------------------------------------------------------\u001b[0m",
      "\u001b[1;31mNoSuchElementException\u001b[0m                    Traceback (most recent call last)",
      "Cell \u001b[1;32mIn[8], line 5\u001b[0m\n\u001b[0;32m      3\u001b[0m elems_id \u001b[38;5;241m=\u001b[39m driver\u001b[38;5;241m.\u001b[39mfind_element(By\u001b[38;5;241m.\u001b[39mCSS_SELECTOR, \u001b[38;5;124m\"\u001b[39m\u001b[38;5;124m.product-heading strong\u001b[39m\u001b[38;5;124m\"\u001b[39m)\n\u001b[0;32m      4\u001b[0m product_id\u001b[38;5;241m.\u001b[39mappend(elems_id\u001b[38;5;241m.\u001b[39mtext)\n\u001b[1;32m----> 5\u001b[0m elems_img \u001b[38;5;241m=\u001b[39m driver\u001b[38;5;241m.\u001b[39mfind_element(By\u001b[38;5;241m.\u001b[39mCSS_SELECTOR, \u001b[38;5;124m\"\u001b[39m\u001b[38;5;124m.product-thumb__item img\u001b[39m\u001b[38;5;124m\"\u001b[39m)\n\u001b[0;32m      6\u001b[0m product_img\u001b[38;5;241m.\u001b[39mappend(elems_img\u001b[38;5;241m.\u001b[39mget_attribute(\u001b[38;5;124m'\u001b[39m\u001b[38;5;124msrc\u001b[39m\u001b[38;5;124m'\u001b[39m))\n",
      "File \u001b[1;32md:\\anacondaa\\Lib\\site-packages\\selenium\\webdriver\\remote\\webdriver.py:741\u001b[0m, in \u001b[0;36mWebDriver.find_element\u001b[1;34m(self, by, value)\u001b[0m\n\u001b[0;32m    738\u001b[0m     by \u001b[38;5;241m=\u001b[39m By\u001b[38;5;241m.\u001b[39mCSS_SELECTOR\n\u001b[0;32m    739\u001b[0m     value \u001b[38;5;241m=\u001b[39m \u001b[38;5;124mf\u001b[39m\u001b[38;5;124m'\u001b[39m\u001b[38;5;124m[name=\u001b[39m\u001b[38;5;124m\"\u001b[39m\u001b[38;5;132;01m{\u001b[39;00mvalue\u001b[38;5;132;01m}\u001b[39;00m\u001b[38;5;124m\"\u001b[39m\u001b[38;5;124m]\u001b[39m\u001b[38;5;124m'\u001b[39m\n\u001b[1;32m--> 741\u001b[0m \u001b[38;5;28;01mreturn\u001b[39;00m \u001b[38;5;28mself\u001b[39m\u001b[38;5;241m.\u001b[39mexecute(Command\u001b[38;5;241m.\u001b[39mFIND_ELEMENT, {\u001b[38;5;124m\"\u001b[39m\u001b[38;5;124musing\u001b[39m\u001b[38;5;124m\"\u001b[39m: by, \u001b[38;5;124m\"\u001b[39m\u001b[38;5;124mvalue\u001b[39m\u001b[38;5;124m\"\u001b[39m: value})[\u001b[38;5;124m\"\u001b[39m\u001b[38;5;124mvalue\u001b[39m\u001b[38;5;124m\"\u001b[39m]\n",
      "File \u001b[1;32md:\\anacondaa\\Lib\\site-packages\\selenium\\webdriver\\remote\\webdriver.py:347\u001b[0m, in \u001b[0;36mWebDriver.execute\u001b[1;34m(self, driver_command, params)\u001b[0m\n\u001b[0;32m    345\u001b[0m response \u001b[38;5;241m=\u001b[39m \u001b[38;5;28mself\u001b[39m\u001b[38;5;241m.\u001b[39mcommand_executor\u001b[38;5;241m.\u001b[39mexecute(driver_command, params)\n\u001b[0;32m    346\u001b[0m \u001b[38;5;28;01mif\u001b[39;00m response:\n\u001b[1;32m--> 347\u001b[0m     \u001b[38;5;28mself\u001b[39m\u001b[38;5;241m.\u001b[39merror_handler\u001b[38;5;241m.\u001b[39mcheck_response(response)\n\u001b[0;32m    348\u001b[0m     response[\u001b[38;5;124m\"\u001b[39m\u001b[38;5;124mvalue\u001b[39m\u001b[38;5;124m\"\u001b[39m] \u001b[38;5;241m=\u001b[39m \u001b[38;5;28mself\u001b[39m\u001b[38;5;241m.\u001b[39m_unwrap_value(response\u001b[38;5;241m.\u001b[39mget(\u001b[38;5;124m\"\u001b[39m\u001b[38;5;124mvalue\u001b[39m\u001b[38;5;124m\"\u001b[39m, \u001b[38;5;28;01mNone\u001b[39;00m))\n\u001b[0;32m    349\u001b[0m     \u001b[38;5;28;01mreturn\u001b[39;00m response\n",
      "File \u001b[1;32md:\\anacondaa\\Lib\\site-packages\\selenium\\webdriver\\remote\\errorhandler.py:229\u001b[0m, in \u001b[0;36mErrorHandler.check_response\u001b[1;34m(self, response)\u001b[0m\n\u001b[0;32m    227\u001b[0m         alert_text \u001b[38;5;241m=\u001b[39m value[\u001b[38;5;124m\"\u001b[39m\u001b[38;5;124malert\u001b[39m\u001b[38;5;124m\"\u001b[39m]\u001b[38;5;241m.\u001b[39mget(\u001b[38;5;124m\"\u001b[39m\u001b[38;5;124mtext\u001b[39m\u001b[38;5;124m\"\u001b[39m)\n\u001b[0;32m    228\u001b[0m     \u001b[38;5;28;01mraise\u001b[39;00m exception_class(message, screen, stacktrace, alert_text)  \u001b[38;5;66;03m# type: ignore[call-arg]  # mypy is not smart enough here\u001b[39;00m\n\u001b[1;32m--> 229\u001b[0m \u001b[38;5;28;01mraise\u001b[39;00m exception_class(message, screen, stacktrace)\n",
      "\u001b[1;31mNoSuchElementException\u001b[0m: Message: no such element: Unable to locate element: {\"method\":\"css selector\",\"selector\":\".product-thumb__item img\"}\n  (Session info: chrome=124.0.6367.202); For documentation on this error, please visit: https://www.selenium.dev/documentation/webdriver/troubleshooting/errors#no-such-element-exception\nStacktrace:\n\tGetHandleVerifier [0x00007FF704E21522+60802]\n\t(No symbol) [0x00007FF704D9AC22]\n\t(No symbol) [0x00007FF704C57CE4]\n\t(No symbol) [0x00007FF704CA6D4D]\n\t(No symbol) [0x00007FF704CA6E1C]\n\t(No symbol) [0x00007FF704CECE37]\n\t(No symbol) [0x00007FF704CCABBF]\n\t(No symbol) [0x00007FF704CEA224]\n\t(No symbol) [0x00007FF704CCA923]\n\t(No symbol) [0x00007FF704C98FEC]\n\t(No symbol) [0x00007FF704C99C21]\n\tGetHandleVerifier [0x00007FF7051241BD+3217949]\n\tGetHandleVerifier [0x00007FF705166157+3488183]\n\tGetHandleVerifier [0x00007FF70515F0DF+3459391]\n\tGetHandleVerifier [0x00007FF704EDB8E6+823622]\n\t(No symbol) [0x00007FF704DA5FBF]\n\t(No symbol) [0x00007FF704DA0EE4]\n\t(No symbol) [0x00007FF704DA1072]\n\t(No symbol) [0x00007FF704D918C4]\n\tBaseThreadInitThunk [0x00007FFF62C6257D+29]\n\tRtlUserThreadStart [0x00007FFF630EAA48+40]\n"
     ]
    }
   ],
   "source": [
    "for link in links:\n",
    "    driver.get(link)\n",
    "    elems_id = driver.find_element(By.CSS_SELECTOR, \".product-heading strong\")\n",
    "    product_id.append(elems_id.text)\n",
    "    elems_img = driver.find_element(By.CSS_SELECTOR, \".product-thumb__item img\")\n",
    "    product_img.append(elems_img.get_attribute('src'))"
   ]
  },
  {
   "cell_type": "code",
   "execution_count": 54,
   "id": "308aebf288e0b01f",
   "metadata": {
    "ExecuteTime": {
     "end_time": "2024-05-15T03:44:28.576658Z",
     "start_time": "2024-05-15T03:44:28.557558Z"
    },
    "collapsed": false
   },
   "outputs": [
    {
     "data": {
      "text/plain": [
       "390"
      ]
     },
     "execution_count": 54,
     "metadata": {},
     "output_type": "execute_result"
    }
   ],
   "source": [
    "len(links)"
   ]
  },
  {
   "cell_type": "code",
   "execution_count": 11,
   "id": "db79b0306ab0a2aa",
   "metadata": {
    "ExecuteTime": {
     "end_time": "2024-05-15T06:49:12.951574Z",
     "start_time": "2024-05-15T06:49:12.931157Z"
    },
    "collapsed": false
   },
   "outputs": [
    {
     "data": {
      "text/plain": [
       "370"
      ]
     },
     "execution_count": 11,
     "metadata": {},
     "output_type": "execute_result"
    }
   ],
   "source": [
    "len(product_id)"
   ]
  },
  {
   "cell_type": "code",
   "execution_count": null,
   "id": "f0c753f7e538fd27",
   "metadata": {
    "collapsed": false
   },
   "outputs": [],
   "source": []
  },
  {
   "cell_type": "code",
   "execution_count": 13,
   "id": "f3fbedfe26932f76",
   "metadata": {
    "ExecuteTime": {
     "end_time": "2024-05-15T06:53:14.977060Z",
     "start_time": "2024-05-15T06:53:14.954375Z"
    },
    "collapsed": false
   },
   "outputs": [
    {
     "data": {
      "text/html": [
       "<div>\n",
       "<style scoped>\n",
       "    .dataframe tbody tr th:only-of-type {\n",
       "        vertical-align: middle;\n",
       "    }\n",
       "\n",
       "    .dataframe tbody tr th {\n",
       "        vertical-align: top;\n",
       "    }\n",
       "\n",
       "    .dataframe thead th {\n",
       "        text-align: right;\n",
       "    }\n",
       "</style>\n",
       "<table border=\"1\" class=\"dataframe\">\n",
       "  <thead>\n",
       "    <tr style=\"text-align: right;\">\n",
       "      <th></th>\n",
       "      <th>ProductName</th>\n",
       "      <th>ProductID</th>\n",
       "      <th>Price</th>\n",
       "    </tr>\n",
       "  </thead>\n",
       "  <tbody>\n",
       "    <tr>\n",
       "      <th>0</th>\n",
       "      <td>Thùng 12 Tô Mì Nhớ Mãi Mãi Hương Vị Lẩu Thái 84g</td>\n",
       "      <td>500000811</td>\n",
       "      <td>156,000₫</td>\n",
       "    </tr>\n",
       "    <tr>\n",
       "      <th>1</th>\n",
       "      <td>Thùng 24 ly Handy Hảo Hảo Hương Vị Tomyum 67g</td>\n",
       "      <td>500000781</td>\n",
       "      <td>228,000₫</td>\n",
       "    </tr>\n",
       "    <tr>\n",
       "      <th>2</th>\n",
       "      <td>Thùng 24 ly Handy Hảo Hảo Tôm Chua Cay 67g</td>\n",
       "      <td>500000780</td>\n",
       "      <td>228,000₫</td>\n",
       "    </tr>\n",
       "    <tr>\n",
       "      <th>3</th>\n",
       "      <td>Thùng 30 gói Hảo Hảo Hương Vị Sa Tế Hành Tím 75g</td>\n",
       "      <td>500001044</td>\n",
       "      <td>135,000₫</td>\n",
       "    </tr>\n",
       "    <tr>\n",
       "      <th>4</th>\n",
       "      <td>Thùng 30 gói Hảo Hảo Chay Hương Vị Rau Nấm 74g</td>\n",
       "      <td>500000091</td>\n",
       "      <td>135,000₫</td>\n",
       "    </tr>\n",
       "    <tr>\n",
       "      <th>...</th>\n",
       "      <td>...</td>\n",
       "      <td>...</td>\n",
       "      <td>...</td>\n",
       "    </tr>\n",
       "    <tr>\n",
       "      <th>365</th>\n",
       "      <td>Block 6 vắt Miến Phú Hương Yến Tiệc 210g</td>\n",
       "      <td>B500000006</td>\n",
       "      <td>57,500₫</td>\n",
       "    </tr>\n",
       "    <tr>\n",
       "      <th>366</th>\n",
       "      <td>Block 4 gói Miến Phú Hương Sườn Heo 55g</td>\n",
       "      <td>B500000747</td>\n",
       "      <td>288,000₫</td>\n",
       "    </tr>\n",
       "    <tr>\n",
       "      <th>367</th>\n",
       "      <td>Block 4 gói Mì Siukay Hương Vị Hải Sản 128g</td>\n",
       "      <td>B500000748</td>\n",
       "      <td>288,000₫</td>\n",
       "    </tr>\n",
       "    <tr>\n",
       "      <th>368</th>\n",
       "      <td>Block 5 gói Phở Đệ Nhất Hương Vị Bò 65g</td>\n",
       "      <td>B500000754</td>\n",
       "      <td>135,000₫</td>\n",
       "    </tr>\n",
       "    <tr>\n",
       "      <th>369</th>\n",
       "      <td>Block 4 vắt Bún Tươi Sấy Khô Hằng Nga 200g</td>\n",
       "      <td>B500000048</td>\n",
       "      <td>312,000₫</td>\n",
       "    </tr>\n",
       "  </tbody>\n",
       "</table>\n",
       "<p>370 rows × 3 columns</p>\n",
       "</div>"
      ],
      "text/plain": [
       "                                          ProductName   ProductID     Price\n",
       "0    Thùng 12 Tô Mì Nhớ Mãi Mãi Hương Vị Lẩu Thái 84g   500000811  156,000₫\n",
       "1       Thùng 24 ly Handy Hảo Hảo Hương Vị Tomyum 67g   500000781  228,000₫\n",
       "2          Thùng 24 ly Handy Hảo Hảo Tôm Chua Cay 67g   500000780  228,000₫\n",
       "3    Thùng 30 gói Hảo Hảo Hương Vị Sa Tế Hành Tím 75g   500001044  135,000₫\n",
       "4      Thùng 30 gói Hảo Hảo Chay Hương Vị Rau Nấm 74g   500000091  135,000₫\n",
       "..                                                ...         ...       ...\n",
       "365          Block 6 vắt Miến Phú Hương Yến Tiệc 210g  B500000006   57,500₫\n",
       "366           Block 4 gói Miến Phú Hương Sườn Heo 55g  B500000747  288,000₫\n",
       "367       Block 4 gói Mì Siukay Hương Vị Hải Sản 128g  B500000748  288,000₫\n",
       "368           Block 5 gói Phở Đệ Nhất Hương Vị Bò 65g  B500000754  135,000₫\n",
       "369        Block 4 vắt Bún Tươi Sấy Khô Hằng Nga 200g  B500000048  312,000₫\n",
       "\n",
       "[370 rows x 3 columns]"
      ]
     },
     "execution_count": 13,
     "metadata": {},
     "output_type": "execute_result"
    }
   ],
   "source": [
    "df2 = pd.DataFrame(list(zip(title[1::2], product_id, price)), columns=['ProductName', 'ProductID', 'Price'])\n",
    "df2"
   ]
  },
  {
   "cell_type": "code",
   "execution_count": 14,
   "id": "5723d46448fac30c",
   "metadata": {
    "ExecuteTime": {
     "end_time": "2024-05-15T06:53:44.687001Z",
     "start_time": "2024-05-15T06:53:42.677247Z"
    },
    "collapsed": false
   },
   "outputs": [],
   "source": [
    "# Kết nối tới MongoDB\n",
    "from pymongo import MongoClient\n",
    "client = MongoClient('mongodb://localhost:27017/')\n",
    "mydb = client['customer_data']\n",
    "collect = mydb['product2']\n",
    "def postDataToMGBD(data, collection):\n",
    "    data_records = data.to_dict(orient='records')\n",
    "\n",
    "    # Chèn dữ liệu vào MongoDB\n",
    "    collection.insert_many(data_records)\n",
    "\n",
    "postDataToMGBD(df2, collect)"
   ]
  },
  {
   "cell_type": "code",
   "execution_count": 20,
   "id": "e107de52b1b6679b",
   "metadata": {
    "ExecuteTime": {
     "end_time": "2024-05-15T07:15:30.282183Z",
     "start_time": "2024-05-15T07:15:07.947591Z"
    },
    "collapsed": false
   },
   "outputs": [
    {
     "data": {
      "text/plain": [
       "'https://product.hstatic.net/200000610047/product/nho_mai_mai_lau_thai_tom_thung_va_goi_c06a7a6f55ab4d0dba035a509573d081_compact.jpg'"
      ]
     },
     "execution_count": 20,
     "metadata": {},
     "output_type": "execute_result"
    }
   ],
   "source": [
    "driver.get(links[0])\n",
    "elems_id = driver.find_element(By.CSS_SELECTOR, \".product-thumb__item img\")\n",
    "product_id = elems_id.get_attribute('src')\n",
    "product_id"
   ]
  }
 ],
 "metadata": {
  "kernelspec": {
   "display_name": "Python 3",
   "language": "python",
   "name": "python3"
  },
  "language_info": {
   "codemirror_mode": {
    "name": "ipython",
    "version": 3
   },
   "file_extension": ".py",
   "mimetype": "text/x-python",
   "name": "python",
   "nbconvert_exporter": "python",
   "pygments_lexer": "ipython3",
   "version": "3.11.4"
  }
 },
 "nbformat": 4,
 "nbformat_minor": 5
}
